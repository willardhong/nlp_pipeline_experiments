{
 "cells": [
  {
   "cell_type": "code",
   "execution_count": 1,
   "metadata": {},
   "outputs": [],
   "source": [
    "import os\n",
    "\n",
    "imdb_dir = '/Users/willard.hong/Downloads/aclImdb'\n",
    "train_dir = os.path.join(imdb_dir, 'train')\n",
    "\n",
    "labels = []\n",
    "texts = []\n",
    "\n",
    "for label_type in ['neg', 'pos']:\n",
    "    dir_name = os.path.join(train_dir, label_type)\n",
    "    for fname in os.listdir(dir_name):\n",
    "        if fname[-4:] == '.txt':\n",
    "            f = open(os.path.join(dir_name, fname))\n",
    "            texts.append(f.read())\n",
    "            f.close()\n",
    "            if label_type == 'neg':\n",
    "                labels.append(0)\n",
    "            else:\n",
    "                labels.append(1)"
   ]
  },
  {
   "cell_type": "code",
   "execution_count": 3,
   "metadata": {},
   "outputs": [],
   "source": [
    "test = texts[:100]"
   ]
  },
  {
   "cell_type": "code",
   "execution_count": 4,
   "metadata": {},
   "outputs": [
    {
     "data": {
      "text/plain": [
       "[\"Working with one of the best Shakespeare sources, this film manages to be creditable to it's source, whilst still appealing to a wider audience.<br /><br />Branagh steals the film from under Fishburne's nose, and there's a talented cast on good form.\",\n",
       " 'Well...tremors I, the original started off in 1990 and i found the movie quite enjoyable to watch. however, they proceeded to make tremors II and III. Trust me, those movies started going downhill right after they finished the first one, i mean, ass blasters??? Now, only God himself is capable of answering the question \"why in Gods name would they create another one of these dumpster dives of a movie?\" Tremors IV cannot be considered a bad movie, in fact it cannot be even considered an epitome of a bad movie, for it lives up to more than that. As i attempted to sit though it, i noticed that my eyes started to bleed, and i hoped profusely that the little girl from the ring would crawl through the TV and kill me. did they really think that dressing the people who had stared in the other movies up as though they we\\'re from the wild west would make the movie (with the exact same occurrences) any better? honestly, i would never suggest buying this movie, i mean, there are cheaper ways to find things that burn well.',\n",
       " \"Ouch! This one was a bit painful to sit through. It has a cute and amusing premise, but it all goes to hell from there. Matthew Modine is almost always pedestrian and annoying, and he does not disappoint in this one. Deborah Kara Unger and John Neville turned in surprisingly decent performances. Alan Bates and Jennifer Tilly, among others, played it way over the top. I know that's the way the parts were written, and it's hard to blame actors, when the script and director have them do such schlock. If you're going to have outrageous characters, that's OK, but you gotta have good material to make it work. It didn't here. Run away screaming from this movie if at all possible.\",\n",
       " \"I've seen some crappy movies in my life, but this one must be among the very worst. Definately bottom 100 material (imo, that is).<br /><br />We follow two couples, the Dodds (Billy Bob Thornton as Lonnie Earl and Natasha Richardson as Darlene) and the Kirkendalls (Patrick Swayze as Roy and Charlize Theron as Candy) in one car on a roadtrip to Reno.<br /><br />Apparently, Lonnie isn't too happy with his sex-life, so he cheats on his wife with Candy, who's despirately trying to have a baby. Roy, meanwhile, isn't too sure if his sperm is OK so he's getting it checked by a doctor.<br /><br />Now, I had read the back of the DVD, but my girlfriend didn't, and she blurted out after about 20 minutes: 'oh yeah, she's gonna end up pregnant but her husband can't have any baby's'. Spot on, as this movie is soooo predictable. As well as boring. And annoying. Meaningless. Offensive. Terrible.<br /><br />An example of how much this movie stinks. The two couples set out in their big car towards Nevada, when they are stopped by 2 police-officers, as they didn't stop at a stop-sign. The guys know each other and finally bribe the two officers with a case of beer. Not only is this scene pointless and not important (or even relevant) for the movie, it takes about 5 minutes! It's just talk and talk and talk, without ever going somewhere.<br /><br />I still have to puke thinking about the ending though. Apparently, Roy ISN'T having problems down there so he IS the father of the child. How many times does that happen in the movies... try something new! The cheated wife ultimately forgives her husband and best friend for having the affair and they all live happily ever after. Yuck.<br /><br />Best scene of the movie is right at the end, with a couple of shots of the Grand Canyon. Why couldn't they just keep the camera on that for 90 minutes?<br /><br />One would expect more from this cast (although Thornton really tries), but you can't really blame them. Writers, shame on you!<br /><br />1/10.\",\n",
       " '\"Carriers\" follows the exploits of two guys and two gals in a stolen Mercedes with the words road warrior on the hood hightailing it down the highway for the beach with surfboards strapped to the top of their car. Brian (Chris Pine of \"Star Trek\") is driving and his girlfriend Bobby (Piper Perabo of \"Coyote Ugly\")has shotgun, while Brian\\'s younger brother, Danny (Lou Taylor Pucci of \"Fanboys\") and his friend--not exactly girlfriend--Kate (Emily VanCamp of \"The Ring 2\") occupy the backseat. This quartet of twentysomething characters are living in a nightmare. Apparently, a viral pandemic--which co-directors & co-scenarists Alex Pastor and David Pastor tell us absolutely nothing about--has devastated America. Naturally, the lack of exposition shaves off at least fifteen minutes that would have slowed down this cynical melodrama about how humans degenerate in a crisis and become their own worst enemies.<br /><br />This lethal virus gives you the shingles and then you bleed and die. Most everybody runs around wearing those white masks strapped to their nose and mouth by a thin rubber band. Initially, this foursome encounters a desperate father, Frank (Christopher Meloni of \"Runaway Bride\"),and his cute little daughter Jodie (Kiernan Shipka of \"Land of the Lost\") blocking the highway with their SUV. Brian swerves around Frank when he tries to waylay them, but in the process, the oil pan in their Mercedes ruptures and they wind up on foot. Reluctantly, they hitch a ride with Frank after they seal Jodie up in the rear of the SUV. She wears a mask over her nose and mouth and it is speckled with blood. Frank has heard that doctors are curing ailing people at a hospital and they head to it. Sadly, somebody has lied to Frank. The hospital physician is giving the last couple of kids some Kool-Aid that will put them out of their misery. The cure did not improve their condition. Everybody else in town is dead. Kate tries without success to get a dial tone on every phone. Frank realizes that there is no hope for his daughter and he lets the heroic quartet appropriate his SUV and take off.<br /><br />Indeed, \"Carriers\" qualifies as a relentlessly depressing movie about the effects of a pandemic on four sympathetic people who degenerate into homicidal murderers to protect themselves. They reach a country club and frolic around on a golf course until another four show up in suits and masks with pump-action shotguns. Incredibly, our protagonists manage to escape without getting shot, but Brian has a scare when he almost falls into the water with a floating corpse. Eventually, they discover that one of them has become infected. Later, as they are about to run out of gas, Brian blocks the highway like Frank did at the outset. Danny tries to stop a pair of older Christian women driving the car. Danny lies that his pregnant wife is about to give birth and he needs their help. Brian throws caution to the wind and blasts away at the ladies with his automatic pistol when they refuse to help them. Brian catches a slug in the leg from the passenger, but he kills her. <br /><br />No,\"Carriers\" is not a beer & pizza movie that you can either laugh off or laugh with because the humor is virtually non-existent. By the end of this 84-minute movie, our heroes have turned into villains who only care only for themselves and their plight. Chris Pine makes quite an impression as fun-loving Brian and his energetic performance is the only reason to hang with this hokum, while the only other well-known actress, Piper Perabo, is relegated to an inconsequential girlfriend role. As Bobby, she makes tragic the mistake of showing compassion to a dying little girl and pays an awful price. It is a testament to Pine\\'s performance that he can change his character to the point of putting himself before others. Essentially, Pine has the only role that gives him the ability to pull a one-eighty from happy-go-lucky guy to heartless guy. <br /><br />The two directors are Spanish brothers, and they never let the momentum flag. Since there is no relief in sight, \"Carriers\" sinks into predictability. \"Irréversible\" cinematographer Benoît Debie does a fantastic job with his widescreen lensing and as unsavory as this road trip becomes, Debie makes it look like a dynamic film. Aside from the lack of a happy ending or closure in any sense of the word, \"Carriers\" suffers because it is so horribly cynical. The scene when the German shepherd attacks Danny conjures up the most suspense, but even it could have been improved. Unfortunately, the Pastor brothers do not scare up either much tension or suspense. By fade-out, you really don\\'t care what happens to anybody.',\n",
       " 'I had been looking forward to seeing this film for a long time, after seeing \"Return to Paradise,\" which I found to be gritty. I was so disappointed. The most realistic thing about it was the unpredictable ending which I think was partly stolen from \"Return to Paradise.\" <br /><br />Maybe I was expecting too much. <br /><br />On the positive side Danes, Beckinsale and Pullman were fantastic in their roles. Although I didnt like Danes\\'s character and first and found her very annoying. <br /><br />I couldnt see anything realistic about the film. It could of been done so much better, for example there could of been more emphasis on the prison conditions and the sheer horror. It was too cheery a movie to be realistic. There could also of been more action and tension<br /><br />The best thing about this film is the \"tragic\" ending. I couldnt of predicted that. But by that time I really didnt care what happened to them.<br /><br />3/10',\n",
       " \"Effect(s) without cause is generally not possible in the real world but in the world of Hollywood remakes, not only is it possible, it's required. The Haunting has been given the computer treatment courtesy of a 1st-class cinematographer-turner-director who once showed promise (Jan de Bont- Speed) but has since produced a string of big budget garbage (Twister, Speed 2).<br /><br />Actor are superfluous in a movie of this type and they seem to realize it. Liam Neeson and Cathrine Zeta-Jones act like they wish they were anywhere but in this film. Lili Taylor makes an attempt to add something to the proceedings but whatever that something might be is unknown since the script feels like half of it is missing. Events just happen, good and bad ghosts show up with no rhyme or reason and then the story just ends with a most unsatisfying non-event meant to wrap up the previous 90 minutes of inanity.<br /><br />There really isn't even reason to see this for the effects since we all know that anything can be put on screen now. Why not watch effects in the service of a good story instead of just for their own sake?\",\n",
       " \"This picture started out with good intentions, Bacon the scientist out to test the theory of invisibility, and Shue is cute as usual in her role. It all falls apart after that, it's your typical Hollywood thriller now, filmed on a soundstage with special effects galore, minus any kind of humour, wit or soul. In other words, don't waste your time watching this. Get the audiocassette tape with John DeLancie as the Invisible Man instead, also starring Leonard Nimoy. Now that was good, and HG Wells is well served, unlike with this mess.\",\n",
       " 'I chose to see this movie because it got a good score here on IMDb. But a lot of people either have really poor taste or someone\\'s been fixing the score.<br /><br />Either way it was a real disappointment. The movie is exactly as stupid and far fetched as the title would suggest. There really is no reason to give a summary of the plot - but here goes: it felt like someone had been thinking: \"Wouldn\\'t it be cool to make a movie where there were snakes on a plane? And then the snakes for some reason would go crazy and start biting and stuff?!?\" And that\\'s about it! The plot is thin and unoriginal. The snakes are bad CGI (but it makes sense to cut corners on a movie that no one in their right mind will recommend to anyone!). The acting is poor, and all people are unbelievable stereo types.<br /><br />To sum it up: It\\'s one of the worst movies I\\'ve ever seen - stay away!',\n",
       " \"This film has to be the worst I have ever seen. The title of the film deceives the audience into thinking there maybe hope. The story line of the film is laughable at best, with the acting so poor you just have to cringe. The title 'Zombie Nation' implies a hoard of zombies when in fact there are six in total. This cannot be categorised as a horror film due to the introduction of cheesy 80's music when the zombies 'attack'. The zombies actually talk and act like human beings in the film with the only difference being the make up which looks like something out a La Roux video. If you ever get the chance to buy this film then do so, then burn the copy.\"]"
      ]
     },
     "execution_count": 4,
     "metadata": {},
     "output_type": "execute_result"
    }
   ],
   "source": [
    "texts[:10]"
   ]
  },
  {
   "cell_type": "code",
   "execution_count": 37,
   "metadata": {},
   "outputs": [],
   "source": [
    "import nltk\n",
    "import pickle\n",
    "import gensim\n",
    "import string\n",
    "\n",
    "from nltk.corpus.reader.api import CorpusReader\n",
    "from nltk.corpus.reader.api import CategorizedCorpusReader\n",
    "\n",
    "from sklearn.base import BaseEstimator, TransformerMixin\n",
    "import spacy\n",
    "from nltk.corpus import stopwords\n",
    "\n",
    "nlp = spacy.load(\"en_core_web_sm\")\n",
    "nltk_stopwords = set(stopwords.words('english'))\n",
    "\n",
    "class Transformer(BaseEstimator, TransformerMixin):\n",
    "    def __init__(self):  \n",
    "        self.test = 1\n",
    "        \n",
    "    def transform(self, documents):\n",
    "        whole_doc = []\n",
    "        for document in documents:\n",
    "            doc = nlp(document.lower())\n",
    "            tranText = [\n",
    "            token.lemma_\n",
    "            for token in doc\n",
    "            if token.text not in string.punctuation and token.text not in nltk_stopwords\n",
    "            ]\n",
    "            whole_doc.append(tranText)\n",
    "        print(len(whole_doc))\n",
    "        return whole_doc\n",
    "        \n",
    "    def fit(self, doc):\n",
    "        print(len(doc))\n",
    "        print(doc[:1]) \n",
    "        return self"
   ]
  },
  {
   "cell_type": "code",
   "execution_count": 38,
   "metadata": {
    "scrolled": false
   },
   "outputs": [
    {
     "name": "stdout",
     "output_type": "stream",
     "text": [
      "100\n"
     ]
    }
   ],
   "source": [
    "x = Transformer()\n",
    "tran_test = x.transform(test)\n"
   ]
  },
  {
   "cell_type": "code",
   "execution_count": 39,
   "metadata": {},
   "outputs": [
    {
     "name": "stdout",
     "output_type": "stream",
     "text": [
      "100\n",
      "[['work', 'one', 'good', 'shakespeare', 'source', 'film', 'manage', 'creditable', 'be', 'source', 'whilst', 'still', 'appeal', 'wide', 'audience.<br', '/><br', '/>branagh', 'steal', 'film', 'fishburne', \"'s\", 'nose', 'be', 'talented', 'cast', 'good', 'form']]\n"
     ]
    },
    {
     "data": {
      "text/plain": [
       "Transformer()"
      ]
     },
     "execution_count": 39,
     "metadata": {},
     "output_type": "execute_result"
    }
   ],
   "source": [
    "x.fit(tran_test)"
   ]
  },
  {
   "cell_type": "code",
   "execution_count": null,
   "metadata": {},
   "outputs": [],
   "source": []
  }
 ],
 "metadata": {
  "kernelspec": {
   "display_name": "Python 3",
   "language": "python",
   "name": "python3"
  },
  "language_info": {
   "codemirror_mode": {
    "name": "ipython",
    "version": 3
   },
   "file_extension": ".py",
   "mimetype": "text/x-python",
   "name": "python",
   "nbconvert_exporter": "python",
   "pygments_lexer": "ipython3",
   "version": "3.6.8"
  }
 },
 "nbformat": 4,
 "nbformat_minor": 2
}
