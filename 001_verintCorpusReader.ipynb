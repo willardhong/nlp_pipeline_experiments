{
 "cells": [
  {
   "cell_type": "markdown",
   "metadata": {},
   "source": [
    "# example of PlainTextCorpusReader\n",
    "https://python.gotrained.com/nltk-corupus/"
   ]
  },
  {
   "cell_type": "code",
   "execution_count": 1,
   "metadata": {},
   "outputs": [],
   "source": [
    "from nltk.corpus import PlaintextCorpusReader\n",
    "import os"
   ]
  },
  {
   "cell_type": "code",
   "execution_count": 2,
   "metadata": {},
   "outputs": [],
   "source": [
    "corpus_root = \"/Users/willard.hong/Downloads/aclImdb/test_samp\"\n",
    "file_ids = r'([\\w_\\s]+).*'\n",
    "corpus = PlaintextCorpusReader(corpus_root, file_ids)"
   ]
  },
  {
   "cell_type": "code",
   "execution_count": 6,
   "metadata": {},
   "outputs": [
    {
     "name": "stdout",
     "output_type": "stream",
     "text": [
      "2,796 vocabulary 11,450 word count\n"
     ]
    }
   ],
   "source": [
    "from collections import Counter\n",
    "\n",
    "#print(corpus.fileids())\n",
    "#print(corpus.raw('10000_7.txt'))\n",
    "#print(corpus.words('10000_7.txt'))\n",
    "#ords = Counter(corpus.words('10000_7.txt'))\n",
    "words = Counter(corpus.words())\n",
    "print(\"{:,} vocabulary {:,} word count\".format(len(words.keys()), sum(words.values())))\n",
    "#print(corpus.paras('10000_7.txt'))"
   ]
  },
  {
   "cell_type": "markdown",
   "metadata": {},
   "source": [
    "# build VerintCorpusReader"
   ]
  },
  {
   "cell_type": "code",
   "execution_count": 8,
   "metadata": {},
   "outputs": [],
   "source": [
    "#!/usr/bin/env python3\n",
    "import time\n",
    "import nltk\n",
    "\n",
    "import pickle\n",
    "import logging\n",
    "\n",
    "from nltk.corpus.reader.api import CorpusReader\n",
    "from nltk.corpus.reader.api import CategorizedCorpusReader\n",
    "\n",
    "from nltk import pos_tag, sent_tokenize, wordpunct_tokenize"
   ]
  },
  {
   "cell_type": "code",
   "execution_count": 9,
   "metadata": {},
   "outputs": [],
   "source": [
    "DOC_PATTERN = r'(?!\\.)[\\w_\\s]+/[\\w\\s\\d\\-]+\\.txt'\n",
    "CAT_PATTERN = r'([\\w_\\s]+)/.*'"
   ]
  },
  {
   "cell_type": "code",
   "execution_count": 10,
   "metadata": {},
   "outputs": [],
   "source": [
    "from nltk.corpus.reader.plaintext import CategorizedPlaintextCorpusReader\n",
    "\n",
    "import spacy\n",
    "import string\n",
    "from six import string_types\n",
    "import os\n",
    "\n",
    "# Load English tokenizer, tagger, parser, NER and word vectors\n",
    "nlp = spacy.load(\"en_core_web_sm\")\n",
    "\n",
    "class VerintCorpusReader(CategorizedPlaintextCorpusReader):\n",
    "    \"\"\"\n",
    "    A corpus reader for raw Verint documents to enable preprocessing.\n",
    "    \"\"\"\n",
    "    def __init__(self, root, fileids=DOC_PATTERN, encoding='utf8', **kwargs):\n",
    "        \"\"\"\n",
    "        Initialize the corpus reader.  Categorization arguments\n",
    "        (``cat_pattern``, ``cat_map``, and ``cat_file``) are passed to\n",
    "        the ``CategorizedCorpusReader`` constructor.  The remaining\n",
    "        arguments are passed to the ``CorpusReader`` constructor.\n",
    "        \"\"\"\n",
    "        # Add the default category pattern if not passed into the class.\n",
    "        if not any(key.startswith('cat_') for key in kwargs.keys()):\n",
    "            kwargs['cat_pattern'] = CAT_PATTERN\n",
    "\n",
    "        # Initialize the NLTK corpus reader objects\n",
    "        CategorizedCorpusReader.__init__(self, kwargs)\n",
    "        CorpusReader.__init__(self, root, fileids, encoding)\n",
    "\n",
    "        # Save the tags that we specifically want to extract.\n",
    "        #self.tags = tags\n",
    "     \n",
    "    def raw(self, fileids=None):\n",
    "        if fileids is None:\n",
    "            fileids = self._fileids\n",
    "        elif isinstance(fileids, string_types):\n",
    "            fileids = [fileids]\n",
    "        for f in fileids:\n",
    "            yield self.open(f).read(), f\n",
    "        \n",
    "    def resolve(self, fileids, categories):\n",
    "        \"\"\"\n",
    "        Returns a list of fileids or categories depending on what is passed\n",
    "        to each internal corpus reader function. Implemented similarly to\n",
    "        the NLTK ``CategorizedPlaintextCorpusReader``.\n",
    "        \"\"\"\n",
    "        if fileids is not None and categories is not None:\n",
    "            raise ValueError(\"Specify fileids or categories, not both\")\n",
    "\n",
    "        if categories is not None:\n",
    "            return self.fileids(categories)\n",
    "        return fileids\n",
    "    \n",
    "    def docs(self, fileids=None, categories=None):\n",
    "        \"\"\"\n",
    "        Returns the complete text of an HTML document, closing the document\n",
    "        after we are done reading it and yielding it in a memory safe fashion.\n",
    "        \"\"\"\n",
    "        fileids = self.resolve(fileids, categories)\n",
    "        myGenText = self.raw(fileids)\n",
    "        # Create a generator, loading one document into memory at a time.\n",
    "        for rawText in myGenText:\n",
    "            #print(type(rawText[1]))     \n",
    "            doc = nlp(rawText[0].lower())\n",
    "            text = [token.lemma_ for token in doc]\n",
    "            text = [token for token in text if token not in string.punctuation]\n",
    "            self.savefile(rawText[1], text)\n",
    "            yield text\n",
    "            \n",
    "    def savefile(self, fileids, text):\n",
    "        print(fileids.split('/')[1][0:-4])\n",
    "        target = os.path.join('/Users/willard.hong/Downloads/aclImdb/pickle', fileids.split('/')[1][0:-4] + '.pkl')\n",
    "        open_pickle = open(target, 'wb')\n",
    "        pickle.dump(text, open_pickle)\n",
    "        open_pickle.close()\n",
    "        "
   ]
  },
  {
   "cell_type": "code",
   "execution_count": 11,
   "metadata": {},
   "outputs": [],
   "source": [
    "reader = VerintCorpusReader('/Users/willard.hong/Downloads/aclImdb/test_samp', \n",
    "         DOC_PATTERN, cat_pattern=CAT_PATTERN)"
   ]
  },
  {
   "cell_type": "code",
   "execution_count": 12,
   "metadata": {
    "scrolled": true
   },
   "outputs": [
    {
     "data": {
      "text/plain": [
       "['neg', 'pos']"
      ]
     },
     "execution_count": 12,
     "metadata": {},
     "output_type": "execute_result"
    }
   ],
   "source": [
    "reader.categories()"
   ]
  },
  {
   "cell_type": "code",
   "execution_count": 13,
   "metadata": {},
   "outputs": [
    {
     "data": {
      "text/plain": [
       "['neg/10020_8.txt',\n",
       " 'neg/10021_9.txt',\n",
       " 'neg/10022_10.txt',\n",
       " 'neg/10023_8.txt',\n",
       " 'neg/10024_9.txt',\n",
       " 'neg/10025_8.txt',\n",
       " 'neg/10026_10.txt',\n",
       " 'neg/10027_8.txt',\n",
       " 'neg/10028_10.txt',\n",
       " 'neg/10029_10.txt',\n",
       " 'neg/1002_9.txt',\n",
       " 'pos/10010_9.txt',\n",
       " 'pos/10011_9.txt',\n",
       " 'pos/10012_9.txt',\n",
       " 'pos/10013_9.txt',\n",
       " 'pos/10014_7.txt',\n",
       " 'pos/10015_8.txt',\n",
       " 'pos/10016_8.txt',\n",
       " 'pos/10017_8.txt',\n",
       " 'pos/10018_8.txt',\n",
       " 'pos/10019_8.txt',\n",
       " 'pos/1001_10.txt']"
      ]
     },
     "execution_count": 13,
     "metadata": {},
     "output_type": "execute_result"
    }
   ],
   "source": [
    "reader.fileids()"
   ]
  },
  {
   "cell_type": "code",
   "execution_count": 14,
   "metadata": {},
   "outputs": [
    {
     "data": {
      "text/plain": [
       "FileSystemPathPointer('/Users/willard.hong/Downloads/aclImdb/test_samp/neg/10020_8.txt')"
      ]
     },
     "execution_count": 14,
     "metadata": {},
     "output_type": "execute_result"
    }
   ],
   "source": [
    "reader.abspath('neg/10020_8.txt')"
   ]
  },
  {
   "cell_type": "code",
   "execution_count": 15,
   "metadata": {},
   "outputs": [
    {
     "data": {
      "text/plain": [
       "generator"
      ]
     },
     "execution_count": 15,
     "metadata": {},
     "output_type": "execute_result"
    }
   ],
   "source": [
    "x = reader.raw(['neg/10020_8.txt', 'neg/10021_9.txt'])\n",
    "type(x)"
   ]
  },
  {
   "cell_type": "code",
   "execution_count": 16,
   "metadata": {
    "scrolled": true
   },
   "outputs": [
    {
     "name": "stdout",
     "output_type": "stream",
     "text": [
      "(\"Felix in Hollywood is a great film. The version I viewed was very well restored, which is sometimes a problem with these silent era animated films. It has some of Hollywood's most famous stars making cameo animated appearances. A must for any silent film or animation enthusiast.\", 'neg/10020_8.txt')\n",
      "(\"A gem of a cartoon from the silent era---it was re-discovered by CARTOON NETWORK, and was broadcast for likely the first time in decades, if ever.<br /><br />What makes this so enjoyable are the varied cameos...Douglas Fairbanks is attacked by giant mosquitos; Will Hays pays a visit as 'boss' of Static Studios; as well as appearances by Chaplin, Keaton, and William S. Hart. The image of chewing gum decimating the shoes of the populace (a money-making idea for Felix's near-bankrupt shoe-=salesman boss) cannot be described--it must be viewed. A terrific cultural gem.\", 'neg/10021_9.txt')\n"
     ]
    }
   ],
   "source": [
    "x = reader.raw(['neg/10020_8.txt', 'neg/10021_9.txt'])\n",
    "\n",
    "for myDoc in x:\n",
    "    print(myDoc)"
   ]
  },
  {
   "cell_type": "code",
   "execution_count": 17,
   "metadata": {},
   "outputs": [
    {
     "name": "stdout",
     "output_type": "stream",
     "text": [
      "10020_8\n",
      "10021_9\n",
      "10022_10\n",
      "10023_8\n",
      "10024_9\n",
      "10025_8\n",
      "10026_10\n",
      "10027_8\n",
      "10028_10\n",
      "10029_10\n",
      "1002_9\n"
     ]
    }
   ],
   "source": [
    "x = reader.docs(reader.fileids('neg'))\n",
    "for myDoc in x:\n",
    "    pass"
   ]
  },
  {
   "cell_type": "code",
   "execution_count": 18,
   "metadata": {},
   "outputs": [
    {
     "name": "stdout",
     "output_type": "stream",
     "text": [
      "['felix', 'in', 'hollywood', 'be', 'a', 'great', 'film', 'the', 'version', 'i', 'view', 'be', 'very', 'well', 'restore', 'which', 'be', 'sometimes', 'a', 'problem', 'with', 'these', 'silent', 'era', 'animate', 'film', '-PRON-', 'have', 'some', 'of', 'hollywood', \"'s\", 'most', 'famous', 'star', 'make', 'cameo', 'animate', 'appearance', 'a', 'must', 'for', 'any', 'silent', 'film', 'or', 'animation', 'enthusiast']\n"
     ]
    }
   ],
   "source": [
    "with open('/Users/willard.hong/Downloads/aclImdb/pickle/10020_8.pkl', 'rb') as f:\n",
    "    print(pickle.load(f))"
   ]
  },
  {
   "cell_type": "code",
   "execution_count": 132,
   "metadata": {},
   "outputs": [
    {
     "name": "stdout",
     "output_type": "stream",
     "text": [
      "(\"Felix in Hollywood is a great film. The version I viewed was very well restored, which is sometimes a problem with these silent era animated films. It has some of Hollywood's most famous stars making cameo animated appearances. A must for any silent film or animation enthusiast.\", 'neg/10020_8.txt')\n",
      "(\"A gem of a cartoon from the silent era---it was re-discovered by CARTOON NETWORK, and was broadcast for likely the first time in decades, if ever.<br /><br />What makes this so enjoyable are the varied cameos...Douglas Fairbanks is attacked by giant mosquitos; Will Hays pays a visit as 'boss' of Static Studios; as well as appearances by Chaplin, Keaton, and William S. Hart. The image of chewing gum decimating the shoes of the populace (a money-making idea for Felix's near-bankrupt shoe-=salesman boss) cannot be described--it must be viewed. A terrific cultural gem.\", 'neg/10021_9.txt')\n",
      "('This short is one of the best of all time and is proof (just like most of Charlie Chaplin\\'s work) that sound and color are not requirements for quality work. In fact, this cartoon uses (and may have started) some of the gags and devices that became standard in animation in later years, like caricatures of celebrities (including the afore-mentioned Chaplin. While the characters are silent, they do \"speak\", by use of word balloons, just like in the comics. Given that Felix started out in newspapers as a comic strip, this device is a natural. The atmosphere and style of the short is completely harmonious with that of the comic strip while adding another dimension (literally and figuratively) and makes this short a delight to watch. Well worth taking the time and effort to get. Most highly recommended.', 'neg/10022_10.txt')\n",
      "('Felix is watching an actor rehearse his lines: \"A ham, A ham! My kingdom for a ham sandwich!!!\" The dramatic guy that tells Felix he\\'ll \"have to sacrifice my art and go into the movies.\" He\\'s in tears. Felix just looks at him like he\\'s nuts, and shrugs his shoulders. The old guy tells Felix to \"go ye forth\" and find money to finance a trip to Hollywood. Felix thinks, \"How does he expect me to get the money?\"<br /><br />In minutes, of course (this is a cartoon), he spots a shoe business owner putting up a \"bankrupt\" sale on his store. Felix comes up with a plan to bail him out and the man promises the cat $500 if it works.<br /><br />Well, it does but the man wants to go alone and leave Felix at home. In an outrageous scene, Felix transforms himself into a briefcase and that\\'s how he gets to Hollywood, transforming himself back to cat when they get there.<br /><br />We then witness Felix\\'s attempts at getting into show business. His audition scenes are very funny, especially with his imitation of Charlie Chaplin. In addition there are caricatures of some famous silent film stars and executives. In all, quite a bit of material is in this 9.5- minute cartoon. It\\'s amazing how much more you can get in an extra 2.5 minutes, assuming most animated shorts are seven minutes in length.<br /><br />At any rate, there were a number of laughs in here and more zany things you could only see in a cartoon, like Felix have a sword duel with giant mosquitoes! Crazy stuff.', 'neg/10023_8.txt')\n",
      "('While I can\\'t say whether or not Larry Hama ever saw any of the old cartoons, I would think that writing said cartoons, file cards, and some of the comics would count for something.<br /><br />For fans of the old cartoon, this is pretty much a continuation of the same, except with a few new characters - and a more insane Cobra Commander.<br /><br />We still have all the old favorites too, but on a personal note, one thing that always irritated me was this \"Duke in charge\" stuff, when there are tons of other *officers* around instead.<br /><br />The battle sequences are similar to the old series as well; the main trick here seems to be the CGI. It\\'s overall pretty good, if not a little over-the-top.', 'neg/10024_9.txt')\n",
      "(\"Errol Flynn's roguish charm really shines through in this entertaining and exciting, but historically bankrupt biopic of the famous (and some would say infamous) General Custer, that follows his career from his first day at West Point, through the Civil War and out west to the battle at The Little Big Horn, all the while butting heads with rival Arthur Kennedy and romancing pretty Olivia de Havilland.<br /><br />Some might say that Flynn, who delivers a great, flamboyant performance as the general, is basically playing himself playing Custer!<br /><br />A lavish production (that should have been in Technicolor) well directed by Raoul Walsh, They Died With Their Boots On features some truly well-staged battle sequences. Also, it's a real treat to see Anthony Quinn playing Crazy Horse.<br /><br />The previous year, Flynn played Jeb Stuart opposite Ronald Reagan's George Custer in Santa Fe Trail (also with de Havilland), another action-packed Warner Brothers production designed to make you fail history class!\", 'neg/10025_8.txt')\n",
      "('Warner Brothers tampered considerably with American history in \"Big Trail\" director Raoul Walsh\\'s first-rate western \"They Died with Their Boots On,\" a somewhat inaccurate but wholly exhilarating biography of cavalry officer George Armstrong Custer. The film chronicles Custer from the moment that he arrives at West Point Academy until the Indians massacre him at the Little Big Horn. This is one of Errol Flynn\\'s signature roles and one of Raoul Walsh\\'s greatest epics. Walsh and Flynn teamed in quite often afterward, and \"They Died with Their Boots On\" reunited Olivia de Havilland as Flynn\\'s romantic interest for the last time. They appeared as a couple in seven previous films. This 140-minute, black & white oater is nothing short of brilliant with dynamic action sequences, humorous romantic scenes, and stern dramatic confrontations between our hero and his adversaries. One of the notorious errors involves Colonel Philip Sheridan who is shown as the commandant at West Point before the Civil War. Indeed, Sheridan was a lieutenant at this point. In fact, the commandant was Robert E. Lee as the earlier Flynn film \"Santa Fe Trail\" showed. Another historical lapse concerns Lieutenant General Whitfield Scott; Scott was not the commander of Union troops throughout the Civil War. Warner Brothers presented Custer as a drinker (probably because Flynn had a reputation for drinking), but in real life Custer neither drank nor smoked. Nevertheless, these as well as other historical goofs do not detract from a truly splendid film.<br /><br />\"They Died with Their Boots On\" opens with Custer riding into West Point Military Academy arrayed in a fancy dress uniform with an African-American carrying his luggage and tending his dogs. After the sergeant of the guard realizes that he has turned out a honor guard for a future plebe instead of a high-ranking foreign general, the sergeant turns Custer over to a ranking cadet Ned Sharp (Arthur Kennedy of \"City for Conquest\") to take charge of him. Sharp plays a practical job on Custer by installing him in the quarters of Major Romulus Taipe (Stanley Ridges of \"Task Force\") who promptly runs Custer out. Naturally, the volatile Custer attacks Sharp in a public brawl. General Phil Sheridan (John Litel of \"The Sons of Katie Elder\") is prepared to dismiss Custer from West Point for conduct unbecoming. As it turns out, Sheridan cannot expel Custer because Custer has not enrolled. Once he enrolls, Custer establishes a mediocre academic reputation with alacrity to fight and accumulate demerits galore. When the American Civil War erupts, West Point graduates cadets who have not completed their education and rushes them into combat. One of the last cadets hustled off to war is Custer. Avid as he is to get into the fight, Custer encounters his future wife, Elizabeth \\'Libby\\' Bacon (Olivia de Havilland of \"Santa Fe Trail\"), and they pledge themselves to each other, despite Mr. Bacon (Gene Lockhart of \"Carousel\") who detests the sight of Custer. It seems that Bacon ran across Custer at a saloon and insulted one of Custer\\'s friends and our hero reprimanded Bacon.<br /><br />Meanwhile, back in Washington, Custer desperately seeks a transfer to a regiment, but Major Taipe has him cooling his heels. Custer befriends rotund Lieutenant General Winfield Scott (Sidney Greenstreet of \"The Maltese Falcon\") and they share an appetite for creamed Bermuda onions that becomes one of Custer\\'s characteristics. Not only does Scott see to it that Taipe assigns Custer to the Second Cavalry, but also Custer appropriates Taipe\\'s horse to get to his command. During the Battle of Bull Run, 21 July 1861, Custer disobeys orders from none other than Sharp, strikes his superior officer and holds a bridge so the infantry can cross it. Wounded in the shoulder and sent to the hospital, Custer receives a medal rather than a court-martial. When Confederate General Jeb Stuart threatens the Union Army at the Battle of Gettysburg, in Pennsylvania, Scott is shocked by the chance that the South may triumph. When a brigadier general cannot be found, Scott goads Taipe into promoting the first available officer. A mistake is made and Custer is promoted. Incredulous at first, Custer embraces the moment and cracks Stuart\\'s advance. After the war, Custer idles down and starts boozing it up with the boys at the local saloons. Sharp shows up as a crooked railroad promoter and with his father they try to enlist Custer to serve as the president of their railway so that they can obtain funds. Eventually, Libby intercedes on his behalf with General Sheridan, who was in command of the army, and gets him back on active duty as the commander of the 7th Cavalry. When he takes command, Custer finds the 7th cavalry a drunken lot and is not surprised that Sharp commands the liquor at the fort. Meanwhile, Custer has his first run in with Crazy Horse (Anthony Quinn of \"The Guns of Navarone\") and takes him into custody. Of course, Crazy Horse escapes, becomes Custer\\'s adversary, and they fight.<br /><br />Once Custer has quelled Crazy Horse and the Indians, Sharp with Taipe as a government agent conspire to destroy a peace treaty with the Sioux and other Indian nations. They also see to it that Custer is brought up on charges for striking Taipe in a saloon brawl. On his way to Washington, Custer discovers the perfidy of Sharp and Taipe who have drummed up a gold strike in the sacred Black Hills. Settlers rampage in and the Indians hit the warpath. Custer sacrifices himself and his 600 men at the Little Big Horn in a slam-bang showdown against 6000 redskins. \"Stagecoach\" lenser Bert Glennon captures both the grit and the glory. The long shot of the 7th Cavalry leaving the fort at dawn is spectacular. As an added premonition of Custer\\'s imminent demise, Libby faints after he leaves their quarters for the Little Big Horn. \"They Died with Their Boots On\" benefits from a top-notch Max Steiner score that incorporates the regimental tune \"Gary Owen.\"', 'neg/10026_10.txt')\n",
      "('If you keep rigid historical perspective out of it, this film is actually quite entertaining. It\\'s got action, adventure and romance, and one of the premiere casting match-ups of the era with Errol Flynn and Olivia de Havilland in the lead roles. As evident on this board, the picture doesn\\'t pass muster with purists who look for one hundred percent accuracy in their story telling. To get beyond that, one need only put aside the history book, and enjoy the story as if it were a work of fiction. I know, I know, that\\'s hard to do when you consider Custer\\'s Last Stand at the Little Big Horn and it\\'s prominence in the history of post Civil War America. So I guess there\\'s an unresolved quandary with the picture, no matter how you look at it.<br /><br />There\\'s a lot to take in here though for the picture\\'s two hour plus run time. Custer\\'s arrival at West Point is probably the first head scratcher, riding up as he does in full military regalia. The practical joke by Sharp (Arthur Kennedy) putting him up in the Major\\'s headquarters probably should have gotten them both in trouble.<br /><br />Ironically, a lot of scenes in this military film play for comedy, as in Custer\\'s first meeting with Libby Bacon, and subsequent encounters that include tea reader Callie (Hattie McDaniel). I hadn\\'t noticed it before in other films, but McDaniel reminded me an awful lot of another favorite character actor of mine from the Forties, Mantan Moreland. So much so that in one scene it looked like it might have been Moreland hamming it up in a dress. With that in mind, the owl scene was a hoot too.<br /><br />As for Flynn, it\\'s interesting to note that a year earlier, he portrayed J.E.B. Stuart opposite Ronald Reagan\\'s depiction of General Custer in \"Santa Fe Trail\", both vying for the attention of none other than Olivia de Havilland. In that film, Reagan put none of the arrogance and flamboyance into the character of Custer that history remembers, while in Flynn\\'s portrayal here it\\'s more than evident. But it doesn\\'t come close to that of Richard Mulligan\\'s take on the military hero in 1970\\'s \"Little Big Man\". Let\\'s just say that one was a bit over the top.<br /><br />The better take away the picture had for me was the manner in which Custer persevered to maintain his good name and not gamble it away on a risky business venture. That and his loyalty to the men he led in battle along with the discipline he developed over the course of the story. Most poignant was that final confrontation with arch rival Sharp just before riding into the Little Big Horn, in which he declared that hell or glory was entirely dependent on one\\'s point of view. Earlier, a similar remark might have given us the best insight of all into Custer\\'s character, when he stated - \"You take glory with you when it\\'s your time to go\".', 'neg/10027_8.txt')\n",
      "('After working on 7 movies with director Mickael Curtiz (The Adventures of Robin Hood are their best achievement), Errol Flynn got tired of his dictatorial direction and decided to work with the great Raoul Walsh. This reunion is a happy thing for cinematography. THE DIED WITH THEIR BOOTS ON is their first and best film together. Raoul Walsh portrays the General George Armstrong Custer (Errol Flynn) from his debuts at West Point, to the Civil War and finally at the battle of Little Big Horn. It\\'s true the film shows a too heroic portrait of Custer, but that\\'s not important. What is important, is the fact that we are transported with the passion and glory carried by the characters. Who can forget California Joe, the great \"Queen\\'s Own Buttler\" with his song \"Garryowen\", the touching Mrs Custer (Olivia de Havilland), the diabolic Sharp well played by Arthur Kennedy ?<br /><br />An eternal blow remains on this epic and tragic freso.', 'neg/10028_10.txt')\n",
      "('I first viewed \"They Died With There Boots On\",about 1970 and though it has been many years since,this film and its impression remain.the cast was good to excellent and the lead man was truly heroic.When I first saw this film I knew the wisest as well as the only real position to have was to enjoy this film as a rousing bit of entertainment and then some.I felt then as I even feel now that the Silver Screen does not as such provide for a true depiction of much of anything let alone The Life of George Armstrong Custer,however the Director Raoul Walsh was to contribute to the real value represented in this film when I watched a semi-documentary with other great directors like Vincent Mennelli wherein these central figures talked about there accomplishments with valuable comments providing a glimpse into the Hollywood mind set.This is what I considered something of interest and where all of this became terribly interesting and very enjoyable.Yet, there have been so much made of all the problems with the silver screen and its story telling ability that some of the enjoyment has been lost and perhaps you would find that to be true here as well.Custer ranked 34 in a graduating class of...34.Much has been made of Custer\\'s final class ranking,but of the 68 cadets who entered the Military Academy with him in 1857,half of them had already flunked out or quit by graduation day,June 24,1861.It is suggested in the movie as the various instructors are determining if a soldier is fit for command and then they come upon the name of George Armstrong Custer and there is to be certain an exchange between the two sides and here is where the Sargeant on Duty says in almost a low tone even to suggest as if that came out by accident\"His squadron would follow him to hell,\"Your at attention Sargeant,reprimands Tape.If Iam not mistaken when Flynn shows up at a initial battlefield it acknowledged that Custer did not see action right away and indeed he was doing work as a reliable attaché to not only Sheridan,but Hancocks forces as well only to end up for a time with the Army of The Potomac under General George McClellan.There is some truth to the audacity attributed to Custers battlefield heroics as was illustrated when in a counterattack ,\"young Custer spurred his horse to the lead and boldly plunged in among the stunned Confederates.As a lone Union Soldier surrounded by rebels,Custers audacity shone through.He accepted the surrender of several enemy soldiers,including a rebel captain.Yet most outstanding was that in this action he personally captured the very first Confederate battle flag taken by the Army of the Potomac.This notable act of courage marked him as an officer of great battlefield promise.\"Robert L.Bateman-Armchair General.There is a problem here and that is the telling of the story and the truth as to George Armstrong Custer,the story is good Hollywood entertainment perhaps even great entertainment but for whatever reasons all that could be told was changed for entertainment purposes.Though this maybe jumping the gun it might be well to know that Tom Custer was to lose his life at the \"Little Big Horn\" only a few feet from where George Custer was to die as well.They were brothers and Tom Custer to this very day holds a honorable distinction of being amongst a very small group perhaps only 3 others to have been awarded the Medal of Honor twice in his military career.The list of engagements that the motion picture shows indicate that Custers indeed was an active young officer.He was not with Union forces at either Chancellorsville or for that matter Fredericksburg however he was with them at the Battle of Antietam and at that point in time he was actually promoted to Captain by General McClellan but that was not to last as McClellan was soon to be replaced due to the historical fact that The Army of The Potomac had the means,and the information(discovered wrapped around some cigars was General Lee\\'s plans to split his forces)and yet he failed to act for some 17 hours.It can be speculated that the war could of been over then and there had that occurred but when McClellan failed to act President Lincoln replaced him permanently and the promotion was lost as a result. Custers greatest victory may of in fact come at Gettysburg,Pa.His forces which occupied an area called cemetery ridge at the field at Gettysburg in the summer of 1863 were able to defeat a Jeb Stuart Led Cavalry of some 6,000 rebels with but a force of 2,300.I Think the heroics at Gettysburg by Custer are worth some discussion.There is speculation had in the movie that Custers appointment was a blunder, well you better guess again because not only did Custer have men in his corner but he established a petition to present to the Governor of the State of Michigan which by the way was relatively new to the Union Cause and where preparing to form Cavalry regiments.Though Custer was severely admonished for that kind of shenanigan when he showed up in all that Gold Braid it was not by accident as you would be led to believe.The truth be told Custers defense at Gettysburg prohibited Jeb Stuart from having lunch at the Unions rear stores and vitally protected that flank.This action by the way occurred and it was timed to coincide with Picketts Charge so to make for the greatest likelihood of success.It was a critical victory and Custer was at his bravest and best.His men did follow him to hell and lived to tell about it.', 'neg/10029_10.txt')\n",
      "(\"I was fortunate to attend the London premier of this film. While I am not at all a fan of British drama, I did find myself deeply moved by the characters and the BAD CHOICES they made. I was in tears by the end of the film. Every scene was mesmerizing. The attention to detail and the excellent acting was quite impressive.<br /><br />I would have to agree with some of the other comments here which question why all these women were throwing themselves at such a despicable character.<br /><br />*******SPOLIER ALERT******** I was also hoping that Dylan would have been killed by William when he had the chance! ****END SPOILER*****<br /><br />Keira Knightley did a great job and radiate beauty and innocence from the screen, but it was Sienna Miller's performance that was truly Oscar worthy.<br /><br />I am sure this production will be nominated for other awards.\", 'neg/1002_9.txt')\n",
      "(\"I first saw this movie on IFC. Which is a great network by the way to see underground films. I watched this movie and was thinking it was going to be pure drama and a story line that doesn't hold water. But it really was a worth while watch. The main character is in such rough shape, and you hate to see him deny help, but no matter what you just can't hate him. His devotion to The Beatles and John Lennon is a great metaphor for his life and the helplessness he feels. <br /><br />The atmosphere of the film is also great. At times, you feel like you can see what he sees, feel what he feels in some situations. This movie does not leave you wanting to know more, or disliking a loophole in the plot. There are NO loopholes (in my opinion). I have always been a fan of foreign films, especially now with movies being made so poorly in America. I really enjoy the foreign settings because I feel it can take you on a trip, and sometimes understand a different culture. This movie did all those things to me and more. Please watch this movie and if you're new to foreign films, this is a great start.\", 'pos/10010_9.txt')\n",
      "(\"I must say, every time I see this movie, I am deeply touched, not only by the most painful four years of Hongsheng's life, but also by how his family deals with his drug addiction. It is also true that getting addicted to anything, such as drugs, alcohol, or pornography, cannot only hurt you, but also hurt your most important people in the world: your family. Since family is the #1 priority in the Asian culture, it takes guts for the circle to gather together and show one person how much the family loves him/her. this is actually the first Chinese movie that I actually enjoy, not for the fun of it, but the elements surrounding it (superb acting, touching story, great direction) make this movie worth watching. What stands out the most is that Hongsheng and his family act out the story themselves instead of having some B-movie actor trying to imitate the real person. It shows the genuineness of the movie.\", 'pos/10011_9.txt')\n",
      "('My wife is a mental health therapist and we watched it from beginning to end. I am the typical man and can not stand chick flicks, but this movie is unbelievable. If you want to see what it is like for someone who is going through these type of struggles, this is the movie for you. As I watched it I found myself feeling sorry for him and others like him. <br /><br />***Spoiler*** Plus the fact that all the individuals in the movie including the people in the mental institution were the actual people in real life made it that more real.<br /><br />A must see for someone in the mental health profession!', 'pos/10012_9.txt')\n",
      "(\"I saw this film at the Rotterdam International Film Festival 2002. This seemed to be one of the less popular films on the festival, however, as it turned out, all the more interesting.<br /><br />The story, of an actor trying to come to grips with himself and his environment after withdrawing from a drug addiction, is based on actual facts. Moreover, the characters playing in the film are the real people living this experience over again, this time for the film, which is partly set up as a stage play. Not only do they all happen to be good actors, Jia Hongsheng's parents are actors in real life as well, the methods used in highlighting their relationship towards Jia are very effective.<br /><br />Jia Hongsheng is the actor of some Chinese action films late eighties start nineties. Later you can see him in great films such as Frozen and Suzhou River. In between these two career paths Jia becomes a drug addict and looses all drive to act or even do anything productive, except for making somewhat futile attempts at becoming a guitar virtuoso.<br /><br />I like the way the writer of the scenario choose to emphasize on his behavior after withdrawal more than on the horror of drugs. We really feel the pain and struggle Jia is in. At the same time we hate him for the way he treats those around him.<br /><br />The film draws the viewer into a tiring pattern Jia seems to be caught in, dragging with him his parents and sister who try to take care of him. Because there are personal 'interviews' with the characters we feel like we are getting to know Jia not only through himself but through others as well.<br /><br />The film has a heavy feel, but scenes of Jia cycling through Bejing and partying with his friends lighten the tone. So does the bitter humor in a lot of events throughout the film. The music is beautiful and stayed with me for a while after. This is a film that might not easily appeal to many people but for those interested in the more serious and modern Chinese film this is a strong recommendation.\", 'pos/10013_9.txt')\n",
      "('\"Night of the Hunted\" stars French porn star Brigitte Lahaie.In fact,many of the cast members in this slow-moving production were porn actors at the time of its frantic filming.This film is certainly different than Rollin\\'s usual lesbian vampire flicks,but it\\'s not as memorable as for example \"Lips of Blood\" or \"Fascination\".Lahaie plays an amnesiac hitchhiker who can\\'t remember who she is or where she came from.Most of the film takes place in a modern apartment complex,where Lahaie is being held by some kind of medical group that\\'s treating a number of people with a similar condition.Anyway,she escapes from the monolithic office tower where the affected people are held.On a highway outside of town,she meets a young man,who stops and picks her up.\"Night of the Hunted\" offers plenty of nudity,unfortunately the pace is extremely slow.The atmosphere is horribly sad and the relationship between Brigitte Lahaie and another asylum inmate Dominique Journet is well-developed.Still \"Night of the Hunted\" is too dull to be completely enjoyable.Give it a look only if you are a fan of Jean Rollin\\'s works.7 out of 10 and that\\'s being kind.', 'pos/10014_7.txt')\n",
      "('Even if you\\'re a fan of Jean Rollin\\'s idiosyncratic body of work, you will be caught off guard by this exceptional foray into science fiction territory. For once, there\\'s not a single diaphanously gowned vampire girl in sight ! True to tradition, the budget proved way too tight to realize the director\\'s vision entirely. Yet this is largely compensated by his obvious love of genre cinema, dedication to his craft and sheer ingenuity. Jean-Claude Couty\\'s atmospheric cinematography makes the most of the foreboding locations and Philippe Bréjean (a/k/a \"Gary Sandeur\") contributes a startling soundtrack that fortunately doesn\\'t resemble any of the sappy stuff he composed for hardcore.<br /><br />Shot in and around a Paris office block before and after working hours, the film was largely cast with porn regulars Rollin was already quite familiar with from his \"Michel Gentil\" cash-gathering XXX efforts, most notably French f*ck film royalty Brigitte Lahaie in the demanding lead. Playing Elisabeth (rather well, I might add), she\\'s picked up wandering a nearby highway one night by Robert (Vincent Gardère), driving home at the end of a long work day. Barely able to piece together the string of events that got her there, Elisabeth seems to lose her memories mere moments after events occur, even forgetting Robert\\'s name and heroic savior role before their night flight comes to an end at his apartment. Prior to making love, she rightfully describes herself as a virgin (further credit to Brigitte\\'s thespian skills that she can handle the line so convincingly, being after all one of the more active adult actresses of the \\'70s) because she cannot recall a single touch preceding his. Because of this nifty bit of context, the relatively long sex scene that follows totally eschews the gratuity of other \"commercial\" interludes Rollin has had to include in other works to assure funding.<br /><br />When Robert leaves for work, he\\'s inevitably erased from Elisabeth\\'s feeble mind. A mysterious doctor (comedian Bernard Papineau effectively cast against type) and his menacing assistant Solange (striking porn starlet Rachel Mhas) move in on her during her protector\\'s absence and take her back to the place she turns out to have escaped from. Here we get one of the movie\\'s strongest scenes as she\\'s re-introduced to her roommate Catherine (the late Cathérine Greiner a/k/a hardcore performer \"Cathy Stewart\" in a quietly devastating turn), both girls desperately supplying fictitious shared \"memories\" for one another in a bid to outrun their inevitable fate. That deterioration is not solely limited to the mind becomes painfully clear when they are served lunch and Catherine\\'s unable to control her movements in trying to eat a spoonful of soup. It\\'s also Catherine who gets to voice the filmmaker\\'s compromise with the demands of commerce as she urges Elisabeth to get naked and hold her because sex is all they have left now that both mind and physical faculties have deserted them.<br /><br />Several rather explicit - if not quite hardcore - sex scenes make up the movie\\'s mid-section and French porn aficionados should recognize the likes of Alain Plumey (a/k/a \"Cyril Val\"), Jacques Gateau and Elodie Delage, along with a blink and miss bit from future porno princess Marilyn Jess whose rape at the hands, mouth and member of Plumey was only present in the film\\'s rarely screened XXX version FILLES TRAQUEES. The pivotal part of Véronique, a girl Elisabeth almost seems to remember and whom she seeks to escape anew with, is beautifully handled by the exquisite Dominique Journet - in her unforgettable debut - who would go on to play a sizable supporting role in Franco Zeffirelli\\'s LA TRAVIATA. The six feet under ending reveals the deteriorating condition to be the result of a nuclear spill, the quarantined \"patients\" ultimately leaving a barely breathing empty shell, unceremoniously disposed off in a fiery furnace. The final shot offers a particularly heartbreaking variation on that of Chaplin\\'s MODERN TIMES as Elisabeth, approaching complete meltdown by now, and a wounded Robert stumble along the railroad bridge, clumsily clasping each other\\'s outstretched hands.', 'pos/10015_8.txt')\n",
      "(\"I was surprised how much I enjoyed this. Sure it is a bit slow moving in parts, but what else would one expect from Rollin? Also there is plenty of nudity, nothing wrong with that, particularly as it includes lots of the gorgeous, Brigitte Lahaie. There are also some spectacularly eroticised female dead, bit more dodgey, perhaps, but most effective. There is also a sci-fi like storyline with a brief explanation at the end, but I wouldn't bother too much with that. No, here we have a most interesting exploration of memory and the effect of memory loss and to just what extent one is still 'alive' without memory. My DVD sleeve mentions David Cronenberg and whilst this is perhaps not quite as good as his best films, there is some similarity here, particularly with the great use of seemingly menacing architecture and the effective and creepy use of inside space. As I have tried to indicate this is by no means a rip roaring thriller, it is a captivating, nightmare like movie that makes the very most of its locations, including a stunning railway setting at the end.\", 'pos/10016_8.txt')\n",
      "('I went into \"Night of the Hunted\" not knowing what to expect at all. I was really impressed.<br /><br />It is essentially a mystery/thriller where this girl who can\\'t remember anything gets \\'rescued\\' by a guy who happens to be driving past. The two become fast friends and lovers and together, they try to figure out what is going on with her. Through some vague flashbacks and grim memories, they eventually get to the bottom of it and the ending is pretty cool.<br /><br />I really liked the setting of this one: a desolate, post-modern Paris is the backdrop with lots of gray skies and tall buildings. Very metropolitan. Groovy soundtrack and lots of nudity.<br /><br />Surprising it was made in 1980; seems somewhat ahead of it\\'s time.<br /><br />8 out of 10, kids.', 'pos/10017_8.txt')\n",
      "('I have certainly not seen all of Jean Rollin\\'s films, but they mostly seem to be bloody vampire naked women fests, which if you like that sort of thing is not bad, but this is a major departure and could almost be Cronenberg minus the bio-mechanical nightmarish stuff. Except it\\'s in French with subtitles of course. A man driving on the road at night comes across a woman that is in her slippers and bathrobe and picks her up, while in the background yet another woman lingers, wearing nothing. As they drive along it\\'s obvious that there is something not right about the woman, in that she forgets things almost as quickly as they happen. Still though, that doesn\\'t prevent the man from having sex with her once they return to Paris & his apartment. The man leaves for work and some strangers show up at his place and take the woman away to this \\'tower block\\', a huge apartment building referred to as the Black Tower, where others of her kind (for whom the \\'no memory\\' things seems to be the least of their problems) are being held for some reason. Time and events march by in the movie, which involve mostly trying to find what\\'s going on and get out of the building for this woman, and she does manage to call Robert, the guy that picked her up in the first place, to come rescue her. The revelation as to what\\'s going on comes in the last few moments of the movie, which has a rather strange yet touching end to it. In avoiding what seemed to be his \"typical\" formula, Rollin created, in this, what I feel is his most fascinating and disturbing film. I like this one a lot, check it out. 8 out of 10.', 'pos/10018_8.txt')\n",
      "(\"Since this cartoon was made in the old days, Felix talks using cartoon bubbles and the animation style is very crude when compared to today. However, compared to its contemporaries, it's a pretty good cartoon and still holds up well. That's because despite its age, the cartoon is very creative and funny.<br /><br />Felix meets a guy whose shoe business is folding because he can't sell any shoes. Well, Felix needs money so he can go to Hollywood, so he tells the guy at the shop he'll get every shoe sold. Felix spreads chewing gum all over town and soon people are stuck and leave their shoes--rushing to buy new ones from the shoe store. In gratitude, the guy gives Felix $500! However, Felix's owner wants to take the money and go alone, so Felix figures out a way to sneak along.<br /><br />Once there, Felix barges into a studio and makes a bit of a nuisance of himself. Along the way, he meets cartoon versions of comics Ben Turpin and Charlie Chaplin. In the end, though, through luck, Felix is discovered and offered a movie contract. Hurray!\", 'pos/10019_8.txt')\n",
      "(\"Despite the title and unlike some other stories about love and war, this film isn't too sticky and pink, because love is as a rose: With thorns, that is. The four leading actors set their characters realistic and with a good sense and balance between the tragic and the down-to-earth. <br /><br />The music and lyrics of the cabaret/chanson-esquire songs (sung b Keira Knightley herself) drag the viewer deeper and deeper in the film, from one place to another, between the brutal war and amongst the peaceful love. Some people may find it too much a biopic, but it ís mostly a romantic story, even though it consequently follows the life of Dylan Thomas and the triangular relationship which is steeped by joy and jealousy. <br /><br />London gets visualized from another angle for once, the bohemian life of Dylan during the bombings of the Germans is set in a floating atmosphere of small bedrooms, pubs and bars. The independent women, the soldier and the charismatic poet are constantly swept in both feelings of love and anger. <br /><br />Maybe the end is too twisted and hangs somewhat loosely to the rest of the film, but all in all this is a great romantic story.\", 'pos/1001_10.txt')\n"
     ]
    }
   ],
   "source": [
    "x = reader.raw(reader.fileids())\n",
    "for myDoc in x:\n",
    "    print(myDoc)"
   ]
  },
  {
   "cell_type": "markdown",
   "metadata": {},
   "source": [
    "\n",
    "# build pickledCorpusReader"
   ]
  },
  {
   "cell_type": "code",
   "execution_count": 19,
   "metadata": {},
   "outputs": [],
   "source": [
    "PKL_PATTERN = r'(?!\\.)[a-z_\\s]+/[a-f0-9]+\\.txt.pkl'\n",
    "\n",
    "class PickledCorpusReader(CategorizedCorpusReader, CorpusReader):\n",
    "\n",
    "    def __init__(self, root, fileids=PKL_PATTERN, **kwargs):\n",
    "        \"\"\"\n",
    "        Initialize the corpus reader.  Categorization arguments\n",
    "        (``cat_pattern``, ``cat_map``, and ``cat_file``) are passed to\n",
    "        the ``CategorizedCorpusReader`` constructor.  The remaining arguments\n",
    "        are passed to the ``CorpusReader`` constructor.\n",
    "        \"\"\"\n",
    "        # Add the default category pattern if not passed into the class.\n",
    "        if not any(key.startswith('cat_') for key in kwargs.keys()):\n",
    "            kwargs['cat_pattern'] = CAT_PATTERN\n",
    "\n",
    "        CategorizedCorpusReader.__init__(self, kwargs)\n",
    "        CorpusReader.__init__(self, root, fileids)\n",
    "\n",
    "    def resolve(self, fileids, categories):\n",
    "        \"\"\"\n",
    "        Returns a list of fileids or categories depending on what is passed\n",
    "        to each internal corpus reader function. This primarily bubbles up to\n",
    "        the high level ``docs`` method, but is implemented here similar to\n",
    "        the nltk ``CategorizedPlaintextCorpusReader``.\n",
    "        \"\"\"\n",
    "        if fileids is not None and categories is not None:\n",
    "            raise ValueError(\"Specify fileids or categories, not both\")\n",
    "\n",
    "        if categories is not None:\n",
    "            return self.fileids(categories)\n",
    "        return fileids\n",
    "\n",
    "    def docs(self, fileids=None, categories=None):\n",
    "        \"\"\"\n",
    "        Returns the document loaded from a pickled object for every file in\n",
    "        the corpus. Similar to the BaleenCorpusReader, this uses a generator\n",
    "        to acheive memory safe iteration.\n",
    "        \"\"\"\n",
    "        # Resolve the fileids and the categories\n",
    "        fileids = self.resolve(fileids, categories)\n",
    "        #yield print('ok')\n",
    "        ## Create a generator, loading one document into memory at a time.\n",
    "        for path, enc, fileid in self.abspaths(fileids, True, True):\n",
    "            with open(path, 'rb') as f:\n",
    "                return pickle.load(f)\n",
    "\n",
    "    "
   ]
  },
  {
   "cell_type": "code",
   "execution_count": 20,
   "metadata": {},
   "outputs": [],
   "source": [
    "corpus = PickledCorpusReader('/Users/willard.hong/Downloads/aclImdb/pickle')"
   ]
  },
  {
   "cell_type": "code",
   "execution_count": 21,
   "metadata": {},
   "outputs": [
    {
     "name": "stdout",
     "output_type": "stream",
     "text": [
      "['felix', 'in', 'hollywood', 'be', 'a', 'great', 'film', 'the', 'version', 'i', 'view', 'be', 'very', 'well', 'restore', 'which', 'be', 'sometimes', 'a', 'problem', 'with', 'these', 'silent', 'era', 'animate', 'film', '-PRON-', 'have', 'some', 'of', 'hollywood', \"'s\", 'most', 'famous', 'star', 'make', 'cameo', 'animate', 'appearance', 'a', 'must', 'for', 'any', 'silent', 'film', 'or', 'animation', 'enthusiast']\n"
     ]
    }
   ],
   "source": [
    "print(corpus.docs(['10020_8.pkl', '10021_9.pkl']))"
   ]
  },
  {
   "cell_type": "code",
   "execution_count": null,
   "metadata": {},
   "outputs": [],
   "source": []
  }
 ],
 "metadata": {
  "kernelspec": {
   "display_name": "Python 3",
   "language": "python",
   "name": "python3"
  },
  "language_info": {
   "codemirror_mode": {
    "name": "ipython",
    "version": 3
   },
   "file_extension": ".py",
   "mimetype": "text/x-python",
   "name": "python",
   "nbconvert_exporter": "python",
   "pygments_lexer": "ipython3",
   "version": "3.6.8"
  }
 },
 "nbformat": 4,
 "nbformat_minor": 2
}
